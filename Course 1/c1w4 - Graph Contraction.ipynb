{
 "cells": [
  {
   "cell_type": "code",
   "execution_count": 245,
   "metadata": {},
   "outputs": [],
   "source": [
    "import random\n",
    "\n",
    "def load_graph():\n",
    "    graph = {}\n",
    "    with open(\"kargerMinCut.txt\") as f:\n",
    "        data = [x.strip(\"\\t\\n\").split(\"\\t\") for x in f.readlines()]\n",
    "\n",
    "    for line in data:\n",
    "        graph[int(line[0])] = [int(x) for x in line[1:]]\n",
    "        \n",
    "    return graph\n",
    "\n",
    "def contract_edge(graph):\n",
    "    #select random edge\n",
    "    n1 = random.choice(list(graph.keys()))\n",
    "    n2 = random.choice(graph[n1])\n",
    "    #print(n1, n2)\n",
    "    #combine n1 and n2 edges, delete loops\n",
    "    graph[n1].extend(graph[n2])\n",
    "    \n",
    "    #delete n2\n",
    "    del graph[n2]\n",
    "    \n",
    "    #remove replace n2 with n1 in other lists\n",
    "    for k in list(graph.keys()):\n",
    "        if n2 in graph[k]:\n",
    "            graph[k] = [x if x!= n2 else n1 for x in graph[k]]\n",
    "            \n",
    "    #delete self-referential loops\n",
    "    graph[n1] = list(filter(lambda x: (x != n1) and (x != n2), graph[n1]))\n",
    "    return n1, n2"
   ]
  },
  {
   "cell_type": "code",
   "execution_count": 246,
   "metadata": {
    "scrolled": true
   },
   "outputs": [
    {
     "name": "stdout",
     "output_type": "stream",
     "text": [
      "17\n"
     ]
    }
   ],
   "source": [
    "minlist = []\n",
    "\n",
    "graph = load_graph()\n",
    "\n",
    "for x in range(100):\n",
    "    random.seed(x)\n",
    "    while (len(graph.keys())>2):\n",
    "        n1, n2 = contract_edge(graph)\n",
    "\n",
    "        assert(n2 not in list(graph.keys()))\n",
    "        n2bool = False\n",
    "        for _, v in graph.items():\n",
    "            if n2 in v:\n",
    "                n2bool = True\n",
    "        assert(not n2bool)\n",
    "\n",
    "    minlist.append(len(graph[list(graph.keys())[0]]))\n",
    "\n",
    "print (min(minlist))"
   ]
  }
 ],
 "metadata": {
  "kernelspec": {
   "display_name": "Python 3",
   "language": "python",
   "name": "python3"
  },
  "language_info": {
   "codemirror_mode": {
    "name": "ipython",
    "version": 3
   },
   "file_extension": ".py",
   "mimetype": "text/x-python",
   "name": "python",
   "nbconvert_exporter": "python",
   "pygments_lexer": "ipython3",
   "version": "3.6.5"
  },
  "varInspector": {
   "cols": {
    "lenName": 16,
    "lenType": 16,
    "lenVar": 40
   },
   "kernels_config": {
    "python": {
     "delete_cmd_postfix": "",
     "delete_cmd_prefix": "del ",
     "library": "var_list.py",
     "varRefreshCmd": "print(var_dic_list())"
    },
    "r": {
     "delete_cmd_postfix": ") ",
     "delete_cmd_prefix": "rm(",
     "library": "var_list.r",
     "varRefreshCmd": "cat(var_dic_list()) "
    }
   },
   "types_to_exclude": [
    "module",
    "function",
    "builtin_function_or_method",
    "instance",
    "_Feature"
   ],
   "window_display": true
  }
 },
 "nbformat": 4,
 "nbformat_minor": 2
}
