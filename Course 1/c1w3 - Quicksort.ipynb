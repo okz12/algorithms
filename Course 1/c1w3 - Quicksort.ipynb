{
 "cells": [
  {
   "cell_type": "code",
   "execution_count": 133,
   "metadata": {},
   "outputs": [],
   "source": [
    "import numpy as np\n",
    "import matplotlib.pyplot as plt\n",
    "\n",
    "def partition(arr, lo, hi):\n",
    "    pivot = arr[lo]#pick first element\n",
    "    i = lo\n",
    "    nc = 0\n",
    "    for j in range(lo + 1, hi):\n",
    "        nc += 1\n",
    "        if arr[j] <= pivot:#partition swapping\n",
    "            i+=1\n",
    "            arr[i], arr[j] = arr[j], arr[i]\n",
    "    arr[i], arr[lo] = arr[lo], arr[i]#ensures pivot will between the partitions\n",
    "    return i, nc\n",
    "\n",
    "def median_of_3(arr, lo, hi):\n",
    "    mid = (lo+hi-1)//2\n",
    "    s = [arr[lo], arr[mid], arr[hi-1]]\n",
    "    #print(s)\n",
    "    s.remove(min(s))\n",
    "    s.remove(max(s))\n",
    "    if s[0] == arr[lo]:\n",
    "        return lo\n",
    "    if s[0] == arr[hi-1]:\n",
    "        return hi-1\n",
    "    if s[0] == arr[mid]:\n",
    "        return mid\n",
    "    \n",
    "def quicksort(arr, lo, hi, pivot_type=\"first\"):\n",
    "    if (lo < hi):\n",
    "        #pick pivot\n",
    "        if pivot_type == \"first\":\n",
    "            pivot = lo\n",
    "        elif pivot_type == \"last\":\n",
    "            pivot = hi-1\n",
    "        else:#median of 3\n",
    "            pivot = median_of_3(arr, lo, hi)\n",
    "                \n",
    "            print\n",
    "        #swap first element w/ pivot\n",
    "        arr[pivot], arr[lo] = arr[lo], arr[pivot]\n",
    "        pi, c = partition(arr, lo, hi)\n",
    "        _, cl = quicksort(arr, lo, pi, pivot_type)\n",
    "        _, cr = quicksort(arr, pi+1, hi, pivot_type)\n",
    "        return arr, c + cl + cr\n",
    "    return arr, 0"
   ]
  },
  {
   "cell_type": "code",
   "execution_count": 134,
   "metadata": {},
   "outputs": [
    {
     "name": "stdout",
     "output_type": "stream",
     "text": [
      "162085 164123 138382\n"
     ]
    },
    {
     "data": {
      "image/png": "[encoded data removed]",
      "text/plain": [
       "<Figure size 432x288 with 1 Axes>"
      ]
     },
     "metadata": {},
     "output_type": "display_data"
    }
   ],
   "source": [
    "n = [int(x) for x in list(np.loadtxt(\"QuickSort.txt\"))]\n",
    "res = quicksort(n, 0, len(n), \"first\") # 162085 \n",
    "n = [int(x) for x in list(np.loadtxt(\"QuickSort.txt\"))]\n",
    "res_l = quicksort(n, 0, len(n), \"last\") # 164123 \n",
    "n = [int(x) for x in list(np.loadtxt(\"QuickSort.txt\"))]\n",
    "res_m = quicksort(n, 0, len(n), \"median\")# 138382 is wrong\n",
    "print (res[1], res_l[1], res_m[1])\n",
    "assert (res[0] == res_l[0] == res_m[0])\n",
    "plt.plot(n)\n",
    "plt.show()"
   ]
  },
  {
   "cell_type": "code",
   "execution_count": 129,
   "metadata": {},
   "outputs": [
    {
     "data": {
      "text/plain": [
       "True"
      ]
     },
     "execution_count": 129,
     "metadata": {},
     "output_type": "execute_result"
    }
   ],
   "source": []
  }
 ],
 "metadata": {
  "kernelspec": {
   "display_name": "Python 3",
   "language": "python",
   "name": "python3"
  },
  "language_info": {
   "codemirror_mode": {
    "name": "ipython",
    "version": 3
   },
   "file_extension": ".py",
   "mimetype": "text/x-python",
   "name": "python",
   "nbconvert_exporter": "python",
   "pygments_lexer": "ipython3",
   "version": "3.6.5"
  },
  "varInspector": {
   "cols": {
    "lenName": 16,
    "lenType": 16,
    "lenVar": 40
   },
   "kernels_config": {
    "python": {
     "delete_cmd_postfix": "",
     "delete_cmd_prefix": "del ",
     "library": "var_list.py",
     "varRefreshCmd": "print(var_dic_list())"
    },
    "r": {
     "delete_cmd_postfix": ") ",
     "delete_cmd_prefix": "rm(",
     "library": "var_list.r",
     "varRefreshCmd": "cat(var_dic_list()) "
    }
   },
   "types_to_exclude": [
    "module",
    "function",
    "builtin_function_or_method",
    "instance",
    "_Feature"
   ],
   "window_display": true
  }
 },
 "nbformat": 4,
 "nbformat_minor": 2
}
