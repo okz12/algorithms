{
 "cells": [
  {
   "cell_type": "code",
   "execution_count": 33,
   "metadata": {},
   "outputs": [],
   "source": [
    "with open('knapsack1.txt') as f:\n",
    "    data = f.read().splitlines()\n",
    "\n",
    "kp_size, num_items = data.pop(0).split()\n",
    "kp_size, num_items = int(kp_size), int(num_items)\n",
    "\n",
    "values = [int(x.split()[0]) for x in data]\n",
    "weights = [int(x.split()[1]) for x in data]"
   ]
  },
  {
   "cell_type": "code",
   "execution_count": 43,
   "metadata": {},
   "outputs": [],
   "source": [
    "A = [[0 for _ in range(kp_size)] for _ in range(num_items)]\n",
    "for i in range(kp_size):\n",
    "    A[0][i] = 0\n",
    "    \n",
    "for i in range(num_items):\n",
    "    for j in range(kp_size):\n",
    "        if weights[i] <= j:\n",
    "            A[i][j] = max(A[i-1][j], A[i-1][j-weights[i]] + values[i])\n",
    "        else:\n",
    "            A[i][j] = A[i-1][j]"
   ]
  },
  {
   "cell_type": "code",
   "execution_count": 45,
   "metadata": {},
   "outputs": [
    {
     "data": {
      "text/plain": [
       "2493893"
      ]
     },
     "execution_count": 45,
     "metadata": {},
     "output_type": "execute_result"
    }
   ],
   "source": [
    "A[-1][-1]"
   ]
  },
  {
   "cell_type": "markdown",
   "metadata": {},
   "source": [
    "### Big Knapsack"
   ]
  },
  {
   "cell_type": "code",
   "execution_count": 63,
   "metadata": {},
   "outputs": [
    {
     "data": {
      "text/plain": [
       "4243395"
      ]
     },
     "execution_count": 63,
     "metadata": {},
     "output_type": "execute_result"
    }
   ],
   "source": [
    "with open('knapsack_big.txt') as f:\n",
    "    data = f.read().splitlines()\n",
    "\n",
    "kp_size, num_items = data.pop(0).split()\n",
    "kp_size, num_items = int(kp_size), int(num_items)\n",
    "\n",
    "values = [int(x.split()[0]) for x in data]\n",
    "weights = [int(x.split()[1]) for x in data]\n",
    "\n",
    "def s(i,j):\n",
    "    return \"{}.{}\".format(i,j)\n",
    "\n",
    "A = {}\n",
    "\n",
    "def Afunc(i, j):\n",
    "    if i == 0:\n",
    "        return 0\n",
    "    if s(i,j) in A:\n",
    "        return A[s(i,j)]\n",
    "    \n",
    "    if weights[i] <= j:\n",
    "        A[s(i,j)] = max(Afunc(i-1, j), Afunc(i-1, j-weights[i]) + values[i])\n",
    "    else:\n",
    "        A[s(i, j)] = Afunc(i-1, j)\n",
    "    return A[s(i, j)]\n",
    "\n",
    "Afunc(num_items - 1, kp_size - 1)"
   ]
  }
 ],
 "metadata": {
  "kernelspec": {
   "display_name": "Python 3",
   "language": "python",
   "name": "python3"
  },
  "language_info": {
   "codemirror_mode": {
    "name": "ipython",
    "version": 3
   },
   "file_extension": ".py",
   "mimetype": "text/x-python",
   "name": "python",
   "nbconvert_exporter": "python",
   "pygments_lexer": "ipython3",
   "version": "3.6.5"
  },
  "varInspector": {
   "cols": {
    "lenName": 16,
    "lenType": 16,
    "lenVar": 40
   },
   "kernels_config": {
    "python": {
     "delete_cmd_postfix": "",
     "delete_cmd_prefix": "del ",
     "library": "var_list.py",
     "varRefreshCmd": "print(var_dic_list())"
    },
    "r": {
     "delete_cmd_postfix": ") ",
     "delete_cmd_prefix": "rm(",
     "library": "var_list.r",
     "varRefreshCmd": "cat(var_dic_list()) "
    }
   },
   "types_to_exclude": [
    "module",
    "function",
    "builtin_function_or_method",
    "instance",
    "_Feature"
   ],
   "window_display": true
  }
 },
 "nbformat": 4,
 "nbformat_minor": 2
}
