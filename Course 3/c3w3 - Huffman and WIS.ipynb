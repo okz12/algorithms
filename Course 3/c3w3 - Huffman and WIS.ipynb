{
 "cells": [
  {
   "cell_type": "markdown",
   "metadata": {},
   "source": [
    "### Binary Tree"
   ]
  },
  {
   "cell_type": "code",
   "execution_count": 119,
   "metadata": {},
   "outputs": [],
   "source": [
    "import heapq\n",
    "\n",
    "class TreeNode:\n",
    "    \n",
    "    def __init__(self, word = None, weight = None):\n",
    "        self.word = word\n",
    "        self.weight = weight\n",
    "        self.right = None\n",
    "        self.left = None\n",
    "        \n",
    "    def __repr__(self):\n",
    "        return (\"{} : {}\".format(self.word, self.weight))\n",
    "    \n",
    "def get_height(node):\n",
    "    if node.left == None and node.right == None:\n",
    "        return (1,1)\n",
    "    elif node.right == None:\n",
    "        left = get_height(node.left)\n",
    "        return (left[0] + 1, left[1] + 1)\n",
    "    elif node.left == None:\n",
    "        right = get_height(node.right)\n",
    "        return (right[0] + 1, right[1] + 1)\n",
    "    else:\n",
    "        left = get_height(node.left)\n",
    "        right = get_height(node.right)\n",
    "        return (min(left[0], right[0]) + 1, max(left[1], right[1]) + 1)"
   ]
  },
  {
   "cell_type": "code",
   "execution_count": 113,
   "metadata": {},
   "outputs": [],
   "source": [
    "with open('huffman.txt') as f:\n",
    "    data=f.read().splitlines()\n",
    "\n",
    "num_weights = int(data.pop(0))\n",
    "data = [(int(x), TreeNode(str(idx), int(x))) for idx, x in enumerate(data)]\n",
    "heapq.heapify(data)"
   ]
  },
  {
   "cell_type": "code",
   "execution_count": 114,
   "metadata": {},
   "outputs": [],
   "source": [
    "while (len(data)>1):\n",
    "    _, min_node1 = heapq.heappop(data)\n",
    "    _, min_node2 = heapq.heappop(data)\n",
    "\n",
    "    new_word = \"{}-{}\".format(min_node1.word, min_node2.word)\n",
    "    new_weight = min_node1.weight + min_node2.weight\n",
    "\n",
    "    new_node = TreeNode(new_word, new_weight)\n",
    "    new_node.left = min_node1\n",
    "    new_node.right = min_node2\n",
    "    heapq.heappush(data, (new_weight, new_node))"
   ]
  },
  {
   "cell_type": "code",
   "execution_count": 122,
   "metadata": {},
   "outputs": [
    {
     "name": "stdout",
     "output_type": "stream",
     "text": [
      "min:9, max:19\n"
     ]
    }
   ],
   "source": [
    "_, head = data[0]\n",
    "res = get_height(head)\n",
    "print (\"min:{}, max:{}\".format(res[0]-1, res[1]-1))"
   ]
  }
 ],
 "metadata": {
  "kernelspec": {
   "display_name": "Python 3",
   "language": "python",
   "name": "python3"
  },
  "language_info": {
   "codemirror_mode": {
    "name": "ipython",
    "version": 3
   },
   "file_extension": ".py",
   "mimetype": "text/x-python",
   "name": "python",
   "nbconvert_exporter": "python",
   "pygments_lexer": "ipython3",
   "version": "3.6.5"
  },
  "varInspector": {
   "cols": {
    "lenName": 16,
    "lenType": 16,
    "lenVar": 40
   },
   "kernels_config": {
    "python": {
     "delete_cmd_postfix": "",
     "delete_cmd_prefix": "del ",
     "library": "var_list.py",
     "varRefreshCmd": "print(var_dic_list())"
    },
    "r": {
     "delete_cmd_postfix": ") ",
     "delete_cmd_prefix": "rm(",
     "library": "var_list.r",
     "varRefreshCmd": "cat(var_dic_list()) "
    }
   },
   "types_to_exclude": [
    "module",
    "function",
    "builtin_function_or_method",
    "instance",
    "_Feature"
   ],
   "window_display": true
  }
 },
 "nbformat": 4,
 "nbformat_minor": 2
}
