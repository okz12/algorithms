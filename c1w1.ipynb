{
 "cells": [
  {
   "cell_type": "code",
   "execution_count": 1,
   "metadata": {},
   "outputs": [
    {
     "data": {
      "text/plain": [
       "8539734222673567065463550869546574495034888535765114961879601127067743044893204848617875072216249073013374895871952806582723184"
      ]
     },
     "execution_count": 1,
     "metadata": {},
     "output_type": "execute_result"
    }
   ],
   "source": [
    "import math\n",
    "pi = 3141592653589793238462643383279502884197169399375105820974944592\n",
    "e = 2718281828459045235360287471352662497757247093699959574966967627\n",
    "pi*e"
   ]
  },
  {
   "cell_type": "code",
   "execution_count": 2,
   "metadata": {},
   "outputs": [
    {
     "data": {
      "text/plain": [
       "8539734222673567065463550869546574495034888535765114961879601127067743044893204848617875072216249073013374895871952806582723184"
      ]
     },
     "execution_count": 2,
     "metadata": {},
     "output_type": "execute_result"
    }
   ],
   "source": [
    "def karat(x,y):\n",
    "    if(x<11 or y<11):\n",
    "        return x*y\n",
    "    else:\n",
    "        n = max(math.ceil(math.log(x,10)), math.ceil(math.log(y,10)))\n",
    "        #print(n,x,y)\n",
    "        m2 = n//2\n",
    "\n",
    "        a = x //(10**m2)\n",
    "        b = x%(10**m2)\n",
    "        c = y//(10**m2)\n",
    "        d = y%(10**m2)\n",
    "\n",
    "        ac = karat(a,c)\n",
    "        bd = karat(b,d)\n",
    "        ad_plus_bc = karat(a+b, c+d) - ac - bd\n",
    "\n",
    "        #return (z2*10^(2*m2))+((z1-z2-z0)*10^(m2))+(z0)\n",
    "        prod = ac * 10 **(2*m2) + ((ad_plus_bc) * 10 ** (m2)) + bd\n",
    "        return prod\n",
    "\n",
    "karat(pi,e)"
   ]
  }
 ],
 "metadata": {
  "kernelspec": {
   "display_name": "Python 3",
   "language": "python",
   "name": "python3"
  },
  "language_info": {
   "codemirror_mode": {
    "name": "ipython",
    "version": 3
   },
   "file_extension": ".py",
   "mimetype": "text/x-python",
   "name": "python",
   "nbconvert_exporter": "python",
   "pygments_lexer": "ipython3",
   "version": "3.6.5"
  },
  "varInspector": {
   "cols": {
    "lenName": 16,
    "lenType": 16,
    "lenVar": 40
   },
   "kernels_config": {
    "python": {
     "delete_cmd_postfix": "",
     "delete_cmd_prefix": "del ",
     "library": "var_list.py",
     "varRefreshCmd": "print(var_dic_list())"
    },
    "r": {
     "delete_cmd_postfix": ") ",
     "delete_cmd_prefix": "rm(",
     "library": "var_list.r",
     "varRefreshCmd": "cat(var_dic_list()) "
    }
   },
   "types_to_exclude": [
    "module",
    "function",
    "builtin_function_or_method",
    "instance",
    "_Feature"
   ],
   "window_display": true
  }
 },
 "nbformat": 4,
 "nbformat_minor": 2
}
