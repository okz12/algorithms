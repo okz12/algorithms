{
 "cells": [
  {
   "cell_type": "code",
   "execution_count": 7,
   "metadata": {},
   "outputs": [
    {
     "data": {
      "text/html": [
       "<style>.container { width:95% !important; }</style>"
      ],
      "text/plain": [
       "<IPython.core.display.HTML object>"
      ]
     },
     "metadata": {},
     "output_type": "display_data"
    }
   ],
   "source": [
    "from IPython.core.display import display, HTML\n",
    "display(HTML(\"<style>.container { width:95% !important; }</style>\"))"
   ]
  },
  {
   "cell_type": "code",
   "execution_count": 8,
   "metadata": {},
   "outputs": [],
   "source": [
    "from functools import reduce\n",
    "from tqdm import tqdm_notebook as tqdm\n",
    "import itertools\n",
    "import math\n",
    "with open('tsp.txt', 'r') as f:\n",
    "    data = f.read().splitlines()[1:]\n",
    "    \n",
    "\n",
    "cities = [(float(x.split(\" \")[0]), float(x.split(\" \")[1])) for x in data]\n",
    "distances = [[math.sqrt((c1[0] - c2[0])**2 + (c1[1] - c2[1])**2) for c1 in cities] for c2 in cities]"
   ]
  },
  {
   "cell_type": "markdown",
   "metadata": {},
   "source": [
    "### With history for backtracking for optimal path -- requires >=32gb ram"
   ]
  },
  {
   "cell_type": "code",
   "execution_count": 66,
   "metadata": {},
   "outputs": [
    {
     "data": {
      "application/vnd.jupyter.widget-view+json": {
       "model_id": "67da8b16ecb94a8ebcf9f4efcd870961",
       "version_major": 2,
       "version_minor": 0
      },
      "text/plain": [
       "HBox(children=(IntProgress(value=0, max=13), HTML(value='')))"
      ]
     },
     "metadata": {},
     "output_type": "display_data"
    },
    {
     "data": {
      "text/plain": [
       "(19269.93599779425, 4)"
      ]
     },
     "execution_count": 66,
     "metadata": {},
     "output_type": "execute_result"
    }
   ],
   "source": [
    "num_cities = len(cities) - 10 # remove - 10 for run on complete dataset, requires 32gb or more ram\n",
    "\n",
    "#StateMap contains (visited cities state, current city) : (distance, previous city) representation\n",
    "#Initialised from state 0 with distance to each city\n",
    "StateMap = {(1 << n, n): (distances[0][n], 0) for n in range(1, num_cities)}\n",
    "\n",
    "for number_visited_cities in tqdm(range(2, num_cities)): # each subset of visited cities\n",
    "    for visited_cities_combinations in itertools.combinations(range(1, num_cities), number_visited_cities): #every combination of visited cities (e.g. 1001, 1010, 1001... for 4C2)\n",
    "        visited_cities_state = reduce(lambda x, y: x | (1<<y), [0] + list(visited_cities_combinations)) #turn integer list into set bits for visited state representation (e.g. [0, 1, 4] -> b10011)\n",
    "\n",
    "        for previous_city in visited_cities_combinations: # every previous visited state to get to this state\n",
    "            previous_visited_cities_state = visited_cities_state & ~(1 << previous_city) # get subset with one state missing\n",
    "            \n",
    "            #StateMap (visited_cities, previous_city) = minimum distance to get from any previous state to current city\n",
    "            StateMap[(visited_cities_state, previous_city)] = min([(StateMap[(previous_visited_cities_state, current_city)][0] + distances[current_city][previous_city], current_city) for current_city in visited_cities_combinations if (current_city !=0 and current_city != previous_city)])\n",
    "\n",
    "min([(StateMap[(2**num_cities - 2, n)][0] + distances[n][0], n) for n in range(1, num_cities)]) # 2**num_cities - 2 = state representation for everything but the initial city"
   ]
  },
  {
   "cell_type": "markdown",
   "metadata": {},
   "source": [
    "### Just the optimal tour length"
   ]
  },
  {
   "cell_type": "code",
   "execution_count": 65,
   "metadata": {},
   "outputs": [
    {
     "data": {
      "application/vnd.jupyter.widget-view+json": {
       "model_id": "c9f7afc37da541e4b5a341bbb9baa249",
       "version_major": 2,
       "version_minor": 0
      },
      "text/plain": [
       "HBox(children=(IntProgress(value=0, max=23), HTML(value='')))"
      ]
     },
     "metadata": {},
     "output_type": "display_data"
    },
    {
     "data": {
      "text/plain": [
       "26442.73030895475"
      ]
     },
     "execution_count": 65,
     "metadata": {},
     "output_type": "execute_result"
    }
   ],
   "source": [
    "num_cities = len(cities)\n",
    "\n",
    "#StateMap contains (visited cities state, current city) : (distance, previous city) representation\n",
    "#Initialised from state 0 with distance to each city\n",
    "StateMap = {(1 << n, n): distances[0][n] for n in range(1, num_cities)}\n",
    "\n",
    "for number_visited_cities in tqdm(range(2, num_cities)): # each subset of visited cities\n",
    "    newStateMap = {}\n",
    "    for visited_cities_combinations in itertools.combinations(range(1, num_cities), number_visited_cities): #every combination of visited cities (e.g. 1001, 1010, 1001... for 4C2)\n",
    "        visited_cities_state = reduce(lambda x, y: x | (1<<y), [0] + list(visited_cities_combinations)) #turn integer list into set bits for visited state representation (e.g. [0, 1, 4] -> b10011)\n",
    "\n",
    "        for previous_city in visited_cities_combinations: # every previous visited state to get to this state\n",
    "            previous_visited_cities_state = visited_cities_state & ~(1 << previous_city) # get subset with one state missing\n",
    "            \n",
    "            #StateMap (visited_cities, previous_city) = minimum distance to get from any previous state to current city\n",
    "            newStateMap[(visited_cities_state, previous_city)] = min([StateMap[(previous_visited_cities_state, current_city)] + distances[current_city][previous_city] for current_city in visited_cities_combinations if (current_city !=0 and current_city != previous_city)])\n",
    "    \n",
    "    del StateMap\n",
    "    StateMap = newStateMap\n",
    "\n",
    "min([StateMap[(2**num_cities - 2, n)] + distances[n][0] for n in range(1, num_cities)]) # 2**num_cities - 2 = state representation for everything but the initial city"
   ]
  }
 ],
 "metadata": {
  "kernelspec": {
   "display_name": "Python 3",
   "language": "python",
   "name": "python3"
  },
  "language_info": {
   "codemirror_mode": {
    "name": "ipython",
    "version": 3
   },
   "file_extension": ".py",
   "mimetype": "text/x-python",
   "name": "python",
   "nbconvert_exporter": "python",
   "pygments_lexer": "ipython3",
   "version": "3.7.1"
  },
  "varInspector": {
   "cols": {
    "lenName": 16,
    "lenType": 16,
    "lenVar": 40
   },
   "kernels_config": {
    "python": {
     "delete_cmd_postfix": "",
     "delete_cmd_prefix": "del ",
     "library": "var_list.py",
     "varRefreshCmd": "print(var_dic_list())"
    },
    "r": {
     "delete_cmd_postfix": ") ",
     "delete_cmd_prefix": "rm(",
     "library": "var_list.r",
     "varRefreshCmd": "cat(var_dic_list()) "
    }
   },
   "types_to_exclude": [
    "module",
    "function",
    "builtin_function_or_method",
    "instance",
    "_Feature"
   ],
   "window_display": true
  }
 },
 "nbformat": 4,
 "nbformat_minor": 2
}
