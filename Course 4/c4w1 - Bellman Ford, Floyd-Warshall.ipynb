{
 "cells": [
  {
   "cell_type": "markdown",
   "metadata": {},
   "source": [
    "### Bellman-Ford and Floyd-Warshall Algorithms for finding shortest paths"
   ]
  },
  {
   "cell_type": "code",
   "execution_count": 29,
   "metadata": {},
   "outputs": [],
   "source": [
    "with open('g3.txt', 'r') as f:\n",
    "    data = f.read().splitlines()\n",
    "    \n",
    "data = data[1:]\n",
    "graph = {}\n",
    "\n",
    "#adj_list\n",
    "for edge in data:\n",
    "    head, tail, length = edge.split(\" \")\n",
    "    head, tail, length = int(head), int(tail), int(length)\n",
    "    #print(head, tail, length)\n",
    "    if head in graph:\n",
    "        graph[head].append((tail, length))\n",
    "    else:\n",
    "        graph[head] = [(tail,length)]\n",
    "        \n",
    "vertices = set()\n",
    "edges = []\n",
    "for edge in data:\n",
    "    head, tail, length = edge.split(\" \")\n",
    "    head, tail, length = int(head), int(tail), int(length)\n",
    "    vertices.add(head)\n",
    "    vertices.add(tail)\n",
    "    edges.append((head, tail, length))\n",
    "    \n",
    "vertices = list(vertices)"
   ]
  },
  {
   "cell_type": "raw",
   "metadata": {},
   "source": [
    "Wiki Pseudocode:\n",
    "\n",
    "function BellmanFord(list vertices, list edges, vertex source)\n",
    "   ::distance[],predecessor[]\n",
    "   \n",
    "   // This implementation takes in a graph, represented as\n",
    "   // lists of vertices and edges, and fills two arrays\n",
    "   // (distance and predecessor) about the shortest path\n",
    "   // from the source to each vertex\n",
    "   \n",
    "   // Step 1: initialize graph\n",
    "   for each vertex v in vertices:\n",
    "       distance[v] := inf             // Initialize the distance to all vertices to infinity\n",
    "       predecessor[v] := null         // And having a null predecessor\n",
    "   \n",
    "   distance[source] := 0              // The distance from the source to itself is, of course, zero\n",
    "   \n",
    "   // Step 2: relax edges repeatedly\n",
    "   for i from 1 to size(vertices)-1:\n",
    "       for each edge (u, v) with weight w in edges:\n",
    "           if distance[u] + w < distance[v]:\n",
    "               distance[v] := distance[u] + w\n",
    "               predecessor[v] := u\n",
    "   \n",
    "   // Step 3: check for negative-weight cycles\n",
    "   for each edge (u, v) with weight w in edges:\n",
    "       if distance[u] + w < distance[v]:\n",
    "           error \"Graph contains a negative-weight cycle\"\n",
    "   \n",
    "   return distance[], predecessor[]"
   ]
  },
  {
   "cell_type": "code",
   "execution_count": 30,
   "metadata": {},
   "outputs": [],
   "source": [
    "def bellman_ford(vertices, edges, source):\n",
    "    distance = [float('inf') for _ in range(len(vertices) + 1)]#assuming ordered vertices, without missing numbers starting from 0\n",
    "    predecessor = [None for _ in range(len(vertices) + 1)]\n",
    "    \n",
    "    distance[source] = 0\n",
    "    \n",
    "    for i in range(1, len(vertices) - 1):\n",
    "        for head, tail, length in edges:\n",
    "            if distance[head] + length < distance[tail]:\n",
    "                distance[tail] = distance[head] + length\n",
    "                predecessor[tail] = head\n",
    "                \n",
    "    for head, tail, length in edges:\n",
    "        if distance[head] + length < distance[tail]:\n",
    "            print(\"Graph contains negative-weight cycle\")\n",
    "            \n",
    "    return distance, predecessor"
   ]
  },
  {
   "cell_type": "code",
   "execution_count": 36,
   "metadata": {
    "collapsed": true
   },
   "outputs": [
    {
     "ename": "KeyboardInterrupt",
     "evalue": "",
     "output_type": "error",
     "traceback": [
      "\u001b[1;31m---------------------------------------------------------------------------\u001b[0m",
      "\u001b[1;31mKeyboardInterrupt\u001b[0m                         Traceback (most recent call last)",
      "\u001b[1;32m<ipython-input-36-31a08e2e0418>\u001b[0m in \u001b[0;36m<module>\u001b[1;34m()\u001b[0m\n\u001b[0;32m      1\u001b[0m \u001b[0mres\u001b[0m \u001b[1;33m=\u001b[0m \u001b[1;33m[\u001b[0m\u001b[0mfloat\u001b[0m\u001b[1;33m(\u001b[0m\u001b[1;34m'inf'\u001b[0m\u001b[1;33m)\u001b[0m \u001b[1;32mfor\u001b[0m \u001b[0m_\u001b[0m \u001b[1;32min\u001b[0m \u001b[0mrange\u001b[0m\u001b[1;33m(\u001b[0m\u001b[1;36m1001\u001b[0m\u001b[1;33m)\u001b[0m\u001b[1;33m]\u001b[0m\u001b[1;33m\u001b[0m\u001b[0m\n\u001b[0;32m      2\u001b[0m \u001b[1;32mfor\u001b[0m \u001b[0mi\u001b[0m \u001b[1;32min\u001b[0m \u001b[0mrange\u001b[0m\u001b[1;33m(\u001b[0m\u001b[1;36m1\u001b[0m\u001b[1;33m,\u001b[0m\u001b[1;36m1001\u001b[0m\u001b[1;33m)\u001b[0m\u001b[1;33m:\u001b[0m\u001b[1;33m\u001b[0m\u001b[0m\n\u001b[1;32m----> 3\u001b[1;33m     \u001b[0mres\u001b[0m\u001b[1;33m[\u001b[0m\u001b[0mi\u001b[0m\u001b[1;33m]\u001b[0m \u001b[1;33m=\u001b[0m \u001b[0mmin\u001b[0m\u001b[1;33m(\u001b[0m\u001b[0mbellman_ford\u001b[0m\u001b[1;33m(\u001b[0m\u001b[0mvertices\u001b[0m\u001b[1;33m,\u001b[0m \u001b[0medges\u001b[0m\u001b[1;33m,\u001b[0m \u001b[0mi\u001b[0m\u001b[1;33m)\u001b[0m\u001b[1;33m[\u001b[0m\u001b[1;36m0\u001b[0m\u001b[1;33m]\u001b[0m\u001b[1;33m)\u001b[0m\u001b[1;33m\u001b[0m\u001b[0m\n\u001b[0m",
      "\u001b[1;32m<ipython-input-30-2c6cea298763>\u001b[0m in \u001b[0;36mbellman_ford\u001b[1;34m(vertices, edges, source)\u001b[0m\n\u001b[0;32m      7\u001b[0m     \u001b[1;32mfor\u001b[0m \u001b[0mi\u001b[0m \u001b[1;32min\u001b[0m \u001b[0mrange\u001b[0m\u001b[1;33m(\u001b[0m\u001b[1;36m1\u001b[0m\u001b[1;33m,\u001b[0m \u001b[0mlen\u001b[0m\u001b[1;33m(\u001b[0m\u001b[0mvertices\u001b[0m\u001b[1;33m)\u001b[0m \u001b[1;33m-\u001b[0m \u001b[1;36m1\u001b[0m\u001b[1;33m)\u001b[0m\u001b[1;33m:\u001b[0m\u001b[1;33m\u001b[0m\u001b[0m\n\u001b[0;32m      8\u001b[0m         \u001b[1;32mfor\u001b[0m \u001b[0mhead\u001b[0m\u001b[1;33m,\u001b[0m \u001b[0mtail\u001b[0m\u001b[1;33m,\u001b[0m \u001b[0mlength\u001b[0m \u001b[1;32min\u001b[0m \u001b[0medges\u001b[0m\u001b[1;33m:\u001b[0m\u001b[1;33m\u001b[0m\u001b[0m\n\u001b[1;32m----> 9\u001b[1;33m             \u001b[1;32mif\u001b[0m \u001b[0mdistance\u001b[0m\u001b[1;33m[\u001b[0m\u001b[0mhead\u001b[0m\u001b[1;33m]\u001b[0m \u001b[1;33m+\u001b[0m \u001b[0mlength\u001b[0m \u001b[1;33m<\u001b[0m \u001b[0mdistance\u001b[0m\u001b[1;33m[\u001b[0m\u001b[0mtail\u001b[0m\u001b[1;33m]\u001b[0m\u001b[1;33m:\u001b[0m\u001b[1;33m\u001b[0m\u001b[0m\n\u001b[0m\u001b[0;32m     10\u001b[0m                 \u001b[0mdistance\u001b[0m\u001b[1;33m[\u001b[0m\u001b[0mtail\u001b[0m\u001b[1;33m]\u001b[0m \u001b[1;33m=\u001b[0m \u001b[0mdistance\u001b[0m\u001b[1;33m[\u001b[0m\u001b[0mhead\u001b[0m\u001b[1;33m]\u001b[0m \u001b[1;33m+\u001b[0m \u001b[0mlength\u001b[0m\u001b[1;33m\u001b[0m\u001b[0m\n\u001b[0;32m     11\u001b[0m                 \u001b[0mpredecessor\u001b[0m\u001b[1;33m[\u001b[0m\u001b[0mtail\u001b[0m\u001b[1;33m]\u001b[0m \u001b[1;33m=\u001b[0m \u001b[0mhead\u001b[0m\u001b[1;33m\u001b[0m\u001b[0m\n",
      "\u001b[1;31mKeyboardInterrupt\u001b[0m: "
     ]
    }
   ],
   "source": [
    "res = [float('inf') for _ in range(1001)]\n",
    "for i in range(1,1001):\n",
    "    res[i] = min(bellman_ford(vertices, edges, i)[0])"
   ]
  },
  {
   "cell_type": "raw",
   "metadata": {},
   "source": [
    "1 let dist be a |V| × |V| array of minimum distances initialized to ∞ (infinity)\n",
    "2 for each edge (u,v)\n",
    "3    dist[u][v] ← w(u,v)  // the weight of the edge (u,v)\n",
    "4 for each vertex v\n",
    "5    dist[v][v] ← 0\n",
    "6 for k from 1 to |V|\n",
    "7    for i from 1 to |V|\n",
    "8       for j from 1 to |V|\n",
    "9          if dist[i][j] > dist[i][k] + dist[k][j] \n",
    "10             dist[i][j] ← dist[i][k] + dist[k][j]\n",
    "11         end if"
   ]
  },
  {
   "cell_type": "code",
   "execution_count": 38,
   "metadata": {},
   "outputs": [],
   "source": [
    "def floyd_warshall(vertices, edges):\n",
    "    dist = [[float('inf') for _ in range(len(vertices) + 1)]  for _ in range(len(vertices) + 1)]\n",
    "    for head, tail, length in edges:\n",
    "        dist[head][tail] = length\n",
    "    for v in vertices:\n",
    "        dist[v][v] = 0\n",
    "        \n",
    "    for k in range(1, len(vertices) + 1):\n",
    "        for i in range(1, len(vertices) + 1):\n",
    "            for j in range(1, len(vertices) + 1):\n",
    "                if dist[i][j] > dist[i][k] + dist[k][j]:\n",
    "                    dist[i][j] = dist[i][k] + dist[k][j]\n",
    "                    \n",
    "    for v in vertices:\n",
    "        if dist[v][v] < 0:\n",
    "            print(\"Negative Cycle Detected\")\n",
    "    return dist"
   ]
  },
  {
   "cell_type": "code",
   "execution_count": 41,
   "metadata": {},
   "outputs": [],
   "source": [
    "res = floyd_warshall(vertices, edges)"
   ]
  },
  {
   "cell_type": "code",
   "execution_count": 46,
   "metadata": {},
   "outputs": [
    {
     "data": {
      "text/plain": [
       "-19"
      ]
     },
     "execution_count": 46,
     "metadata": {},
     "output_type": "execute_result"
    }
   ],
   "source": [
    "min_res = [min(x) for x in res]\n",
    "min(min_res)"
   ]
  }
 ],
 "metadata": {
  "kernelspec": {
   "display_name": "Python 3",
   "language": "python",
   "name": "python3"
  },
  "language_info": {
   "codemirror_mode": {
    "name": "ipython",
    "version": 3
   },
   "file_extension": ".py",
   "mimetype": "text/x-python",
   "name": "python",
   "nbconvert_exporter": "python",
   "pygments_lexer": "ipython3",
   "version": "3.6.5"
  },
  "varInspector": {
   "cols": {
    "lenName": 16,
    "lenType": 16,
    "lenVar": 40
   },
   "kernels_config": {
    "python": {
     "delete_cmd_postfix": "",
     "delete_cmd_prefix": "del ",
     "library": "var_list.py",
     "varRefreshCmd": "print(var_dic_list())"
    },
    "r": {
     "delete_cmd_postfix": ") ",
     "delete_cmd_prefix": "rm(",
     "library": "var_list.r",
     "varRefreshCmd": "cat(var_dic_list()) "
    }
   },
   "types_to_exclude": [
    "module",
    "function",
    "builtin_function_or_method",
    "instance",
    "_Feature"
   ],
   "window_display": true
  }
 },
 "nbformat": 4,
 "nbformat_minor": 2
}
