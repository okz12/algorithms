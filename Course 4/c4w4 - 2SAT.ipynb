{
 "cells": [
  {
   "cell_type": "code",
   "execution_count": 1,
   "metadata": {},
   "outputs": [],
   "source": [
    "def dfsFirst(vertex):\n",
    "    global stk, adj, visited\n",
    "    if not visited[vertex]:\n",
    "        visited[vertex] = True\n",
    "        for u in adj[vertex]:\n",
    "            dfsFirst(u)\n",
    "        stk.append(vertex)\n",
    "\n",
    "def dfsSecond(vertex):\n",
    "    global visitedInv, adjInv, scc_component, counter\n",
    "    if not visitedInv[vertex]:\n",
    "        visitedInv[vertex] = True\n",
    "        for u in adjInv[vertex]:\n",
    "            dfsSecond(u)\n",
    "        scc_component[vertex] = counter\n",
    "\n",
    "def satisfiability(filename):\n",
    "    print(filename)\n",
    "    global adj, adjInv, visited, visitedInv, scc_component, counter, stk\n",
    "    \n",
    "    with open(filename) as f:\n",
    "        data = f.read().splitlines()\n",
    "\n",
    "    num_nodes = int(data[0])\n",
    "    sats = [tuple(x.split(\" \")) for x in data[1:]]\n",
    "\n",
    "    scc_component = {}\n",
    "    nodes = [i for i in range(-num_nodes, num_nodes + 1) if i != 0]\n",
    "    counter = 1\n",
    "    adj = {k:[] for k in nodes}\n",
    "    adjInv = {k:[] for k in nodes}\n",
    "    visited = {k: False for k in nodes}\n",
    "    visitedInv = {k: False for k in nodes}\n",
    "\n",
    "    # map xVy to -x -> y, -y -> x in graph and x -> -y, y -> -x in inverse graph\n",
    "    for sat in sats:\n",
    "        x, y = int(sat[0]), int(sat[1])\n",
    "        adj[-x].append(y)\n",
    "        adj[-y].append(x)\n",
    "        adjInv[x].append(-y)\n",
    "        adjInv[y].append(-x)\n",
    "\n",
    "    stk = []\n",
    "    for i in nodes:\n",
    "        if not visited[i]:\n",
    "            dfsFirst(i)\n",
    "\n",
    "    for v in stk[::-1]:\n",
    "        if not visitedInv[v]:\n",
    "            dfsSecond(v)\n",
    "            counter+=1\n",
    "\n",
    "    for i in range(1, num_nodes + 1):\n",
    "        if scc_component[i] == scc_component[-i]:\n",
    "            print(i, scc_component[i], scc_component[-i], \"Unsatisfiable\")"
   ]
  },
  {
   "cell_type": "code",
   "execution_count": 2,
   "metadata": {},
   "outputs": [
    {
     "name": "stdout",
     "output_type": "stream",
     "text": [
      "2sat1.txt\n",
      "2sat2.txt\n",
      "9187 366022 366022 Unsatisfiable\n",
      "76873 366022 366022 Unsatisfiable\n",
      "134592 366022 366022 Unsatisfiable\n",
      "162741 366022 366022 Unsatisfiable\n",
      "2sat3.txt\n",
      "2sat4.txt\n",
      "2sat5.txt\n",
      "223530 1555316 1555316 Unsatisfiable\n",
      "618692 1555316 1555316 Unsatisfiable\n",
      "2sat6.txt\n",
      "273101 1767242 1767242 Unsatisfiable\n",
      "410420 1767242 1767242 Unsatisfiable\n",
      "976968 1767242 1767242 Unsatisfiable\n"
     ]
    }
   ],
   "source": [
    "adj, adjInv, visited, visitedInv, scc_component = {}, {}, {}, {}, {}\n",
    "counter = 0\n",
    "stk = []\n",
    "\n",
    "for i in range(1, 7):\n",
    "    satisfiability(\"2sat{}.txt\".format(i))"
   ]
  }
 ],
 "metadata": {
  "kernelspec": {
   "display_name": "Python 3",
   "language": "python",
   "name": "python3"
  },
  "language_info": {
   "codemirror_mode": {
    "name": "ipython",
    "version": 3
   },
   "file_extension": ".py",
   "mimetype": "text/x-python",
   "name": "python",
   "nbconvert_exporter": "python",
   "pygments_lexer": "ipython3",
   "version": "3.7.1"
  },
  "varInspector": {
   "cols": {
    "lenName": 16,
    "lenType": 16,
    "lenVar": 40
   },
   "kernels_config": {
    "python": {
     "delete_cmd_postfix": "",
     "delete_cmd_prefix": "del ",
     "library": "var_list.py",
     "varRefreshCmd": "print(var_dic_list())"
    },
    "r": {
     "delete_cmd_postfix": ") ",
     "delete_cmd_prefix": "rm(",
     "library": "var_list.r",
     "varRefreshCmd": "cat(var_dic_list()) "
    }
   },
   "types_to_exclude": [
    "module",
    "function",
    "builtin_function_or_method",
    "instance",
    "_Feature"
   ],
   "window_display": true
  }
 },
 "nbformat": 4,
 "nbformat_minor": 2
}
