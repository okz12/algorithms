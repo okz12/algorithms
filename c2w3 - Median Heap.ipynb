{
 "cells": [
  {
   "cell_type": "code",
   "execution_count": 91,
   "metadata": {},
   "outputs": [],
   "source": [
    "from heapq import heappush, heappop\n",
    "with open('Median.txt') as handle:\n",
    "    data = handle.readlines()\n",
    "    \n",
    "data = [int(x.strip('\\n')) for x in data]"
   ]
  },
  {
   "cell_type": "code",
   "execution_count": 111,
   "metadata": {},
   "outputs": [],
   "source": [
    "median_heap_list = []\n",
    "bottomHeap = []\n",
    "topHeap = []\n",
    "\n",
    "for x in data:\n",
    "    if len(bottomHeap) == 0 or x>-bottomHeap[0]:\n",
    "        heappush(bottomHeap, -x)\n",
    "    else:\n",
    "        heappush(topHeap, x)\n",
    "        \n",
    "    if (len(topHeap) !=0 and -bottomHeap[0] > topHeap[0]):\n",
    "        temp1 = -heappop(topHeap)\n",
    "        temp2 = -heappop(bottomHeap)\n",
    "        heappush(topHeap, temp2)\n",
    "        heappush(bottomHeap, temp1)\n",
    "        \n",
    "    while(len(topHeap) > len(bottomHeap)):\n",
    "        heappush(bottomHeap, -heappop(topHeap))\n",
    "    while(len(bottomHeap) - 1 > len(topHeap)):\n",
    "        heappush(topHeap, -heappop(bottomHeap))\n",
    "    median_heap_list.append(-bottomHeap[0])"
   ]
  },
  {
   "cell_type": "code",
   "execution_count": 113,
   "metadata": {},
   "outputs": [
    {
     "data": {
      "text/plain": [
       "1213"
      ]
     },
     "execution_count": 113,
     "metadata": {},
     "output_type": "execute_result"
    }
   ],
   "source": [
    "sum(median_heap_list) % 10000"
   ]
  },
  {
   "cell_type": "code",
   "execution_count": 78,
   "metadata": {},
   "outputs": [],
   "source": [
    "def get_median(l):\n",
    "    idx = int((len(l)-1)//2)\n",
    "    median = sorted(l)[idx]\n",
    "    #print(l, median, len(l), idx)\n",
    "    return median\n",
    "\n",
    "median_list = []\n",
    "for i in range(len(data)):\n",
    "    median = get_median(data[0:i+1])\n",
    "    median_list.append(median)"
   ]
  }
 ],
 "metadata": {
  "kernelspec": {
   "display_name": "Python 3",
   "language": "python",
   "name": "python3"
  },
  "language_info": {
   "codemirror_mode": {
    "name": "ipython",
    "version": 3
   },
   "file_extension": ".py",
   "mimetype": "text/x-python",
   "name": "python",
   "nbconvert_exporter": "python",
   "pygments_lexer": "ipython3",
   "version": "3.6.5"
  },
  "varInspector": {
   "cols": {
    "lenName": 16,
    "lenType": 16,
    "lenVar": 40
   },
   "kernels_config": {
    "python": {
     "delete_cmd_postfix": "",
     "delete_cmd_prefix": "del ",
     "library": "var_list.py",
     "varRefreshCmd": "print(var_dic_list())"
    },
    "r": {
     "delete_cmd_postfix": ") ",
     "delete_cmd_prefix": "rm(",
     "library": "var_list.r",
     "varRefreshCmd": "cat(var_dic_list()) "
    }
   },
   "types_to_exclude": [
    "module",
    "function",
    "builtin_function_or_method",
    "instance",
    "_Feature"
   ],
   "window_display": true
  }
 },
 "nbformat": 4,
 "nbformat_minor": 2
}
