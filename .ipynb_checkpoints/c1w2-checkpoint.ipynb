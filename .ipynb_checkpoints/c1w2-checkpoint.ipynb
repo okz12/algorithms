{
 "cells": [
  {
   "cell_type": "code",
   "execution_count": 32,
   "metadata": {},
   "outputs": [],
   "source": [
    "import numpy as np\n",
    "n = [int(x) for x in list(np.loadtxt(\"IntegerArray.txt\"))]"
   ]
  },
  {
   "cell_type": "code",
   "execution_count": 75,
   "metadata": {},
   "outputs": [
    {
     "data": {
      "text/plain": [
       "2407905288"
      ]
     },
     "execution_count": 75,
     "metadata": {},
     "output_type": "execute_result"
    }
   ],
   "source": [
    "def mergesort(arr, l, r):\n",
    "    if (r-l) == 1:\n",
    "        return [arr[l]], 0\n",
    "    \n",
    "    m = (r+l)//2\n",
    "    \n",
    "    a, a_inv = mergesort(arr, l, m)\n",
    "    b, b_inv = mergesort(arr, m, r)\n",
    "    \n",
    "    res = []\n",
    "    i = j = 0\n",
    "    inv = a_inv + b_inv\n",
    "    \n",
    "    #merge\n",
    "    while i<len(a) and j<len(b):\n",
    "        if a[i]<b[j]:\n",
    "            res.append(a[i])\n",
    "            i+=1\n",
    "        else:\n",
    "            res.append(b[j])\n",
    "            j+=1\n",
    "            inv += (len(a)-i)#moved by length a - i\n",
    "            \n",
    "    res+=a[i:]\n",
    "    res+=b[j:]\n",
    "    \n",
    "    return res, inv\n",
    "    \n",
    "\n",
    "n1 = mergesort(n, 0, len(n))\n",
    "n1[1]"
   ]
  }
 ],
 "metadata": {
  "kernelspec": {
   "display_name": "Python 3",
   "language": "python",
   "name": "python3"
  },
  "language_info": {
   "codemirror_mode": {
    "name": "ipython",
    "version": 3
   },
   "file_extension": ".py",
   "mimetype": "text/x-python",
   "name": "python",
   "nbconvert_exporter": "python",
   "pygments_lexer": "ipython3",
   "version": "3.6.5"
  },
  "varInspector": {
   "cols": {
    "lenName": 16,
    "lenType": 16,
    "lenVar": 40
   },
   "kernels_config": {
    "python": {
     "delete_cmd_postfix": "",
     "delete_cmd_prefix": "del ",
     "library": "var_list.py",
     "varRefreshCmd": "print(var_dic_list())"
    },
    "r": {
     "delete_cmd_postfix": ") ",
     "delete_cmd_prefix": "rm(",
     "library": "var_list.r",
     "varRefreshCmd": "cat(var_dic_list()) "
    }
   },
   "types_to_exclude": [
    "module",
    "function",
    "builtin_function_or_method",
    "instance",
    "_Feature"
   ],
   "window_display": true
  }
 },
 "nbformat": 4,
 "nbformat_minor": 2
}
